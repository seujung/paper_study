{
 "cells": [
  {
   "cell_type": "code",
   "execution_count": 1,
   "metadata": {
    "collapsed": true
   },
   "outputs": [],
   "source": [
    "import time\n",
    "import random\n",
    "import os\n",
    "import mxnet as mx\n",
    "import numpy as np\n",
    "from mxnet import gluon, autograd ,nd\n",
    "#np.set_printoptions(precision=2)\n",
    "from PIL import Image\n",
    "\n",
    "from mxnet.gluon import nn, Block, HybridBlock, Parameter, ParameterDict\n",
    "import mxnet.ndarray as F\n",
    "\n",
    "import utils\n",
    "from tqdm import tqdm"
   ]
  },
  {
   "cell_type": "code",
   "execution_count": null,
   "metadata": {
    "collapsed": true
   },
   "outputs": [],
   "source": [
    "class TransformerNet(gluon.Block):\n",
    "    def __init__(self,**kwargs):\n",
    "        super(TransformerNet,self).__init__(**kwargs)\n",
    "        with self.name_scope():\n",
    "            self.conv1 = nn.Conv2D(32,9,1)\n",
    "            self.in1 = F.InstanceNorm()\n",
    "            self.conv2 = nn.Conv2D(64,3,2)\n",
    "            self.in2 = F.InstanceNorm()\n",
    "            self.conv3 = nn.Conv2D(128,3,2)\n",
    "            self.in3 = F.InstanceNorm()\n",
    "            \n",
    "            #Residual layers\n",
    "            "
   ]
  },
  {
   "cell_type": "code",
   "execution_count": 4,
   "metadata": {
    "collapsed": true
   },
   "outputs": [],
   "source": [
    "class ReflectancePadding(gluon.Block):\n",
    "    def __init__(self,pad_width=None,**kwargs):\n",
    "        super(ReflectancePadding,self).__init__(**kwargs)\n",
    "        self.pad_width = pad_width\n",
    "        \n",
    "    def forward(self,x):\n",
    "        return F.pad(x,mode='reflect',pad_width=self.pad_width)"
   ]
  },
  {
   "cell_type": "code",
   "execution_count": 17,
   "metadata": {
    "collapsed": true
   },
   "outputs": [],
   "source": [
    "class ConvLayer(gluon.Block):\n",
    "    def __init__(self,in_channels,out_channels,kernel_size,stride,**kwargs):\n",
    "        super(ConvLayer,self).__init__(**kwargs)\n",
    "        relectiong_padding = int(np.floor(kernel_size / 2))\n",
    "        with self.name_scope():\n",
    "            self.reflection_pad = ReflectancePadding(pad_width=relectiong_padding)\n",
    "            self.conv2d = nn.Conv2D(in_channels,out_channels,kernel_size,stride)\n",
    "            \n",
    "    def forward(self,x):\n",
    "        out = self.reflection_pad(x)\n",
    "        out = self.conv2d(out)\n",
    "        return out"
   ]
  },
  {
   "cell_type": "code",
   "execution_count": 18,
   "metadata": {
    "collapsed": true
   },
   "outputs": [],
   "source": [
    "class ResidualBlock(gluon.Block):\n",
    "    def __init__(self,channels,**kwargs):\n",
    "        super(ResidualBlock,self).__init__(**kwargs)\n",
    "        with self.name_scope():\n",
    "            self.conv1 = ConvLayer(channels,kernel_size=3,stride=1)\n",
    "            self.in1 = F.InstanceNorm()\n",
    "            self.conv2 = ConvLayer(channels,kernel_size==3,stride=1)\n",
    "            self.in2 = F.InstanceNorm()\n",
    "            self.relu = nd.relu(self.in2)\n",
    "            \n",
    "    def forward(self,x):\n",
    "        residual = x\n",
    "        out = nd.relu(self.in1(self.conv1()))\n",
    "        out = self.in2(self.conv2(out))\n",
    "        out = out + residual\n",
    "        return out"
   ]
  },
  {
   "cell_type": "code",
   "execution_count": 19,
   "metadata": {},
   "outputs": [
    {
     "ename": "MXNetError",
     "evalue": "[14:01:09] src/c_api/../imperative/imperative_utils.h:303: Check failed: num_inputs == infered_num_inputs (0 vs. 3) Operator InstanceNorm expects 3 inputs, but got 0 instead.\n\nStack trace returned 10 entries:\n[bt] (0) /home/seunghwan/work/anaconda3/lib/python3.6/site-packages/mxnet/libmxnet.so(+0x28965c) [0x7fea9ddaa65c]\n[bt] (1) /home/seunghwan/work/anaconda3/lib/python3.6/site-packages/mxnet/libmxnet.so(+0x2404fcf) [0x7fea9ff25fcf]\n[bt] (2) /home/seunghwan/work/anaconda3/lib/python3.6/site-packages/mxnet/libmxnet.so(+0x24025e2) [0x7fea9ff235e2]\n[bt] (3) /home/seunghwan/work/anaconda3/lib/python3.6/site-packages/mxnet/libmxnet.so(MXImperativeInvokeEx+0x63) [0x7fea9ff23bf3]\n[bt] (4) /home/seunghwan/work/anaconda3/lib/python3.6/lib-dynload/../../libffi.so.6(ffi_call_unix64+0x4c) [0x7feada1a8ec0]\n[bt] (5) /home/seunghwan/work/anaconda3/lib/python3.6/lib-dynload/../../libffi.so.6(ffi_call+0x22d) [0x7feada1a887d]\n[bt] (6) /home/seunghwan/work/anaconda3/lib/python3.6/lib-dynload/_ctypes.cpython-36m-x86_64-linux-gnu.so(_ctypes_callproc+0x2ce) [0x7feada3bd82e]\n[bt] (7) /home/seunghwan/work/anaconda3/lib/python3.6/lib-dynload/_ctypes.cpython-36m-x86_64-linux-gnu.so(+0x12265) [0x7feada3be265]\n[bt] (8) /home/seunghwan/work/anaconda3/bin/python(_PyObject_FastCallDict+0x8b) [0x558814cb054b]\n[bt] (9) /home/seunghwan/work/anaconda3/bin/python(+0x19f00e) [0x558814d4300e]\n",
     "output_type": "error",
     "traceback": [
      "\u001b[0;31m---------------------------------------------------------------------------\u001b[0m",
      "\u001b[0;31mMXNetError\u001b[0m                                Traceback (most recent call last)",
      "\u001b[0;32m<ipython-input-19-4bc0a0a7ebc4>\u001b[0m in \u001b[0;36m<module>\u001b[0;34m()\u001b[0m\n\u001b[0;32m----> 1\u001b[0;31m \u001b[0ma\u001b[0m \u001b[0;34m=\u001b[0m \u001b[0mResidualBlock\u001b[0m\u001b[0;34m(\u001b[0m\u001b[0mchannels\u001b[0m \u001b[0;34m=\u001b[0m \u001b[0;36m10\u001b[0m\u001b[0;34m)\u001b[0m\u001b[0;34m\u001b[0m\u001b[0m\n\u001b[0m",
      "\u001b[0;32m<ipython-input-18-ce4a0ca50906>\u001b[0m in \u001b[0;36m__init__\u001b[0;34m(self, channels, **kwargs)\u001b[0m\n\u001b[1;32m      4\u001b[0m         \u001b[0;32mwith\u001b[0m \u001b[0mself\u001b[0m\u001b[0;34m.\u001b[0m\u001b[0mname_scope\u001b[0m\u001b[0;34m(\u001b[0m\u001b[0;34m)\u001b[0m\u001b[0;34m:\u001b[0m\u001b[0;34m\u001b[0m\u001b[0m\n\u001b[1;32m      5\u001b[0m             \u001b[0mself\u001b[0m\u001b[0;34m.\u001b[0m\u001b[0mconv1\u001b[0m \u001b[0;34m=\u001b[0m \u001b[0mConvLayer\u001b[0m\u001b[0;34m(\u001b[0m\u001b[0mchannels\u001b[0m\u001b[0;34m,\u001b[0m\u001b[0mkernel_size\u001b[0m\u001b[0;34m=\u001b[0m\u001b[0;36m3\u001b[0m\u001b[0;34m,\u001b[0m\u001b[0mstride\u001b[0m\u001b[0;34m=\u001b[0m\u001b[0;36m1\u001b[0m\u001b[0;34m)\u001b[0m\u001b[0;34m\u001b[0m\u001b[0m\n\u001b[0;32m----> 6\u001b[0;31m             \u001b[0mself\u001b[0m\u001b[0;34m.\u001b[0m\u001b[0min1\u001b[0m \u001b[0;34m=\u001b[0m \u001b[0mF\u001b[0m\u001b[0;34m.\u001b[0m\u001b[0mInstanceNorm\u001b[0m\u001b[0;34m(\u001b[0m\u001b[0;34m)\u001b[0m\u001b[0;34m\u001b[0m\u001b[0m\n\u001b[0m\u001b[1;32m      7\u001b[0m             \u001b[0mself\u001b[0m\u001b[0;34m.\u001b[0m\u001b[0mconv2\u001b[0m \u001b[0;34m=\u001b[0m \u001b[0mConvLayer\u001b[0m\u001b[0;34m(\u001b[0m\u001b[0mchannels\u001b[0m\u001b[0;34m,\u001b[0m\u001b[0mkernel_size\u001b[0m\u001b[0;34m==\u001b[0m\u001b[0;36m3\u001b[0m\u001b[0;34m,\u001b[0m\u001b[0mstride\u001b[0m\u001b[0;34m=\u001b[0m\u001b[0;36m1\u001b[0m\u001b[0;34m)\u001b[0m\u001b[0;34m\u001b[0m\u001b[0m\n\u001b[1;32m      8\u001b[0m             \u001b[0mself\u001b[0m\u001b[0;34m.\u001b[0m\u001b[0min2\u001b[0m \u001b[0;34m=\u001b[0m \u001b[0mF\u001b[0m\u001b[0;34m.\u001b[0m\u001b[0mInstanceNorm\u001b[0m\u001b[0;34m(\u001b[0m\u001b[0;34m)\u001b[0m\u001b[0;34m\u001b[0m\u001b[0m\n",
      "\u001b[0;32m/home/seunghwan/work/anaconda3/lib/python3.6/site-packages/mxnet/ndarray/register.py\u001b[0m in \u001b[0;36mInstanceNorm\u001b[0;34m(data, gamma, beta, eps, out, name, **kwargs)\u001b[0m\n",
      "\u001b[0;32m/home/seunghwan/work/anaconda3/lib/python3.6/site-packages/mxnet/_ctypes/ndarray.py\u001b[0m in \u001b[0;36m_imperative_invoke\u001b[0;34m(handle, ndargs, keys, vals, out)\u001b[0m\n\u001b[1;32m     90\u001b[0m         \u001b[0mc_str_array\u001b[0m\u001b[0;34m(\u001b[0m\u001b[0mkeys\u001b[0m\u001b[0;34m)\u001b[0m\u001b[0;34m,\u001b[0m\u001b[0;34m\u001b[0m\u001b[0m\n\u001b[1;32m     91\u001b[0m         \u001b[0mc_str_array\u001b[0m\u001b[0;34m(\u001b[0m\u001b[0;34m[\u001b[0m\u001b[0mstr\u001b[0m\u001b[0;34m(\u001b[0m\u001b[0ms\u001b[0m\u001b[0;34m)\u001b[0m \u001b[0;32mfor\u001b[0m \u001b[0ms\u001b[0m \u001b[0;32min\u001b[0m \u001b[0mvals\u001b[0m\u001b[0;34m]\u001b[0m\u001b[0;34m)\u001b[0m\u001b[0;34m,\u001b[0m\u001b[0;34m\u001b[0m\u001b[0m\n\u001b[0;32m---> 92\u001b[0;31m         ctypes.byref(out_stypes)))\n\u001b[0m\u001b[1;32m     93\u001b[0m \u001b[0;34m\u001b[0m\u001b[0m\n\u001b[1;32m     94\u001b[0m     \u001b[0;32mif\u001b[0m \u001b[0moriginal_output\u001b[0m \u001b[0;32mis\u001b[0m \u001b[0;32mnot\u001b[0m \u001b[0;32mNone\u001b[0m\u001b[0;34m:\u001b[0m\u001b[0;34m\u001b[0m\u001b[0m\n",
      "\u001b[0;32m/home/seunghwan/work/anaconda3/lib/python3.6/site-packages/mxnet/base.py\u001b[0m in \u001b[0;36mcheck_call\u001b[0;34m(ret)\u001b[0m\n\u001b[1;32m    144\u001b[0m     \"\"\"\n\u001b[1;32m    145\u001b[0m     \u001b[0;32mif\u001b[0m \u001b[0mret\u001b[0m \u001b[0;34m!=\u001b[0m \u001b[0;36m0\u001b[0m\u001b[0;34m:\u001b[0m\u001b[0;34m\u001b[0m\u001b[0m\n\u001b[0;32m--> 146\u001b[0;31m         \u001b[0;32mraise\u001b[0m \u001b[0mMXNetError\u001b[0m\u001b[0;34m(\u001b[0m\u001b[0mpy_str\u001b[0m\u001b[0;34m(\u001b[0m\u001b[0m_LIB\u001b[0m\u001b[0;34m.\u001b[0m\u001b[0mMXGetLastError\u001b[0m\u001b[0;34m(\u001b[0m\u001b[0;34m)\u001b[0m\u001b[0;34m)\u001b[0m\u001b[0;34m)\u001b[0m\u001b[0;34m\u001b[0m\u001b[0m\n\u001b[0m\u001b[1;32m    147\u001b[0m \u001b[0;34m\u001b[0m\u001b[0m\n\u001b[1;32m    148\u001b[0m \u001b[0;34m\u001b[0m\u001b[0m\n",
      "\u001b[0;31mMXNetError\u001b[0m: [14:01:09] src/c_api/../imperative/imperative_utils.h:303: Check failed: num_inputs == infered_num_inputs (0 vs. 3) Operator InstanceNorm expects 3 inputs, but got 0 instead.\n\nStack trace returned 10 entries:\n[bt] (0) /home/seunghwan/work/anaconda3/lib/python3.6/site-packages/mxnet/libmxnet.so(+0x28965c) [0x7fea9ddaa65c]\n[bt] (1) /home/seunghwan/work/anaconda3/lib/python3.6/site-packages/mxnet/libmxnet.so(+0x2404fcf) [0x7fea9ff25fcf]\n[bt] (2) /home/seunghwan/work/anaconda3/lib/python3.6/site-packages/mxnet/libmxnet.so(+0x24025e2) [0x7fea9ff235e2]\n[bt] (3) /home/seunghwan/work/anaconda3/lib/python3.6/site-packages/mxnet/libmxnet.so(MXImperativeInvokeEx+0x63) [0x7fea9ff23bf3]\n[bt] (4) /home/seunghwan/work/anaconda3/lib/python3.6/lib-dynload/../../libffi.so.6(ffi_call_unix64+0x4c) [0x7feada1a8ec0]\n[bt] (5) /home/seunghwan/work/anaconda3/lib/python3.6/lib-dynload/../../libffi.so.6(ffi_call+0x22d) [0x7feada1a887d]\n[bt] (6) /home/seunghwan/work/anaconda3/lib/python3.6/lib-dynload/_ctypes.cpython-36m-x86_64-linux-gnu.so(_ctypes_callproc+0x2ce) [0x7feada3bd82e]\n[bt] (7) /home/seunghwan/work/anaconda3/lib/python3.6/lib-dynload/_ctypes.cpython-36m-x86_64-linux-gnu.so(+0x12265) [0x7feada3be265]\n[bt] (8) /home/seunghwan/work/anaconda3/bin/python(_PyObject_FastCallDict+0x8b) [0x558814cb054b]\n[bt] (9) /home/seunghwan/work/anaconda3/bin/python(+0x19f00e) [0x558814d4300e]\n"
     ]
    }
   ],
   "source": [
    "nn.Conv2D()"
   ]
  },
  {
   "cell_type": "code",
   "execution_count": null,
   "metadata": {
    "collapsed": true
   },
   "outputs": [],
   "source": [
    "nn.Conv2D()"
   ]
  },
  {
   "cell_type": "code",
   "execution_count": 8,
   "metadata": {},
   "outputs": [],
   "source": [
    "import torch"
   ]
  },
  {
   "cell_type": "code",
   "execution_count": null,
   "metadata": {
    "collapsed": true
   },
   "outputs": [],
   "source": [
    "torch.nn.Conv2d()"
   ]
  }
 ],
 "metadata": {
  "kernelspec": {
   "display_name": "Python 3",
   "language": "python",
   "name": "python3"
  },
  "language_info": {
   "codemirror_mode": {
    "name": "ipython",
    "version": 3
   },
   "file_extension": ".py",
   "mimetype": "text/x-python",
   "name": "python",
   "nbconvert_exporter": "python",
   "pygments_lexer": "ipython3",
   "version": "3.6.3"
  }
 },
 "nbformat": 4,
 "nbformat_minor": 2
}
